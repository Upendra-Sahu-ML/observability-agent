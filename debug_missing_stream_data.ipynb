{
 "cells": [
  {
   "cell_type": "markdown",
   "id": "6276df9f",
   "metadata": {},
   "source": [
    "# NATS Stream Diagnostic Notebook\n",
    "\n",
    "This notebook helps diagnose issues with NATS streams in the observability-agent project, specifically focusing on streams that aren't receiving data."
   ]
  },
  {
   "cell_type": "markdown",
   "id": "acbe7ad4",
   "metadata": {},
   "source": [
    "## Setup\n",
    "\n",
    "Install required libraries and set up connection to NATS."
   ]
  },
  {
   "cell_type": "code",
   "execution_count": null,
   "id": "9cdd4b95",
   "metadata": {},
   "outputs": [],
   "source": [
    "# Install necessary packages if not already installed\n",
    "!pip install nats-py asyncio pandas"
   ]
  },
  {
   "cell_type": "code",
   "execution_count": null,
   "id": "66c4bffc",
   "metadata": {},
   "outputs": [],
   "source": [
    "import asyncio\n",
    "import json\n",
    "import nats\n",
    "import pandas as pd\n",
    "from datetime import datetime\n",
    "import time\n",
    "import random\n",
    "\n",
    "# NATS server URL - update if needed\n",
    "NATS_URL = \"nats://localhost:4222\""
   ]
  },
  {
   "cell_type": "markdown",
   "id": "dfee75ac",
   "metadata": {},
   "source": [
    "## Check Stream Status\n",
    "\n",
    "Connect to NATS and get information about all streams."
   ]
  },
  {
   "cell_type": "code",
   "execution_count": null,
   "id": "5fbb72ae",
   "metadata": {},
   "outputs": [],
   "source": [
    "async def get_stream_info():\n",
    "    nc = await nats.connect(NATS_URL)\n",
    "    js = nc.jetstream()\n",
    "    \n",
    "    # Get all stream names\n",
    "    streams = await js.streams_info()\n",
    "    \n",
    "    stream_data = []\n",
    "    for stream in streams:\n",
    "        info = await js.stream_info(stream.config.name)\n",
    "        stream_data.append({\n",
    "            'Name': info.config.name,\n",
    "            'Subjects': ', '.join(info.config.subjects),\n",
    "            'Messages': info.state.messages,\n",
    "            'Bytes': info.state.bytes,\n",
    "            'First Seq': info.state.first_seq,\n",
    "            'Last Seq': info.state.last_seq\n",
    "        })\n",
    "    \n",
    "    await nc.close()\n",
    "    return stream_data\n",
    "\n",
    "stream_info = await get_stream_info()\n",
    "df = pd.DataFrame(stream_info)\n",
    "df"
   ]
  },
  {
   "cell_type": "markdown",
   "id": "8de1939c",
   "metadata": {},
   "source": [
    "## Test Message Publication\n",
    "\n",
    "Publish test messages to the empty streams to see if they can receive data."
   ]
  },
  {
   "cell_type": "code",
   "execution_count": null,
   "id": "7cf20cc0",
   "metadata": {},
   "outputs": [],
   "source": [
    "async def publish_test_message(stream, subject):\n",
    "    nc = await nats.connect(NATS_URL)\n",
    "    js = nc.jetstream()\n",
    "    \n",
    "    # Create test message based on stream type\n",
    "    test_data = None\n",
    "    if stream == \"METRICS\":\n",
    "        test_data = {\n",
    "            \"timestamp\": datetime.now().isoformat(),\n",
    "            \"service\": \"test-service\",\n",
    "            \"name\": \"cpu_usage\",\n",
    "            \"value\": random.randint(1, 100)\n",
    "        }\n",
    "    elif stream == \"LOGS\":\n",
    "        test_data = {\n",
    "            \"timestamp\": datetime.now().isoformat(),\n",
    "            \"service\": \"test-service\",\n",
    "            \"level\": \"INFO\",\n",
    "            \"message\": \"Test log message\"\n",
    "        }\n",
    "    elif stream == \"ALERT_DATA\" or stream == \"ALERTS\":\n",
    "        test_data = {\n",
    "            \"id\": f\"alert-{int(time.time())}\",\n",
    "            \"labels\": {\n",
    "                \"alertname\": \"TestAlert\",\n",
    "                \"service\": \"test-service\",\n",
    "                \"severity\": \"info\"\n",
    "            },\n",
    "            \"annotations\": {\n",
    "                \"summary\": \"Test alert\",\n",
    "                \"description\": \"This is a test alert\"\n",
    "            },\n",
    "            \"startsAt\": datetime.now().isoformat()\n",
    "        }\n",
    "    \n",
    "    if test_data:\n",
    "        # Try to publish using JetStream\n",
    "        try:\n",
    "            ack = await js.publish(subject, json.dumps(test_data).encode())\n",
    "            print(f\"Published to {subject} with JetStream, sequence: {ack.seq}\")\n",
    "        except Exception as e:\n",
    "            print(f\"JetStream publish failed: {e}\")\n",
    "            # Fallback to regular NATS publish\n",
    "            nc.publish(subject, json.dumps(test_data).encode())\n",
    "            print(f\"Published to {subject} using regular NATS\")\n",
    "    \n",
    "    await nc.close()\n",
    "    return test_data"
   ]
  },
  {
   "cell_type": "code",
   "execution_count": null,
   "id": "76baebbb",
   "metadata": {},
   "outputs": [],
   "source": [
    "# Test publishing to METRICS stream\n",
    "await publish_test_message(\"METRICS\", \"metrics.test_service.cpu_usage\")"
   ]
  },
  {
   "cell_type": "code",
   "execution_count": null,
   "id": "4251ef96",
   "metadata": {},
   "outputs": [],
   "source": [
    "# Test publishing to LOGS stream\n",
    "await publish_test_message(\"LOGS\", \"logs.test_service.info\")"
   ]
  },
  {
   "cell_type": "code",
   "execution_count": null,
   "id": "074fa182",
   "metadata": {},
   "outputs": [],
   "source": [
    "# Test publishing to ALERTS stream\n",
    "await publish_test_message(\"ALERTS\", \"alerts.test_alert\")"
   ]
  },
  {
   "cell_type": "markdown",
   "id": "84bca9b5",
   "metadata": {},
   "source": [
    "## Check Stream Configuration\n",
    "\n",
    "Examine the detailed configuration of the empty streams."
   ]
  },
  {
   "cell_type": "code",
   "execution_count": null,
   "id": "7450f322",
   "metadata": {},
   "outputs": [],
   "source": [
    "async def check_stream_config(stream_name):\n",
    "    nc = await nats.connect(NATS_URL)\n",
    "    js = nc.jetstream()\n",
    "    \n",
    "    try:\n",
    "        info = await js.stream_info(stream_name)\n",
    "        config = info.config\n",
    "        print(f\"Stream: {config.name}\")\n",
    "        print(f\"Subjects: {config.subjects}\")\n",
    "        print(f\"Retention: {config.retention}\")\n",
    "        print(f\"Storage: {config.storage}\")\n",
    "        print(f\"Max Messages: {config.max_msgs}\")\n",
    "        print(f\"Max Age: {config.max_age}\")\n",
    "        print(f\"Description: {config.description}\")\n",
    "    except Exception as e:\n",
    "        print(f\"Error getting stream config: {e}\")\n",
    "    \n",
    "    await nc.close()"
   ]
  },
  {
   "cell_type": "code",
   "execution_count": null,
   "id": "2d47917a",
   "metadata": {},
   "outputs": [],
   "source": [
    "# Check configuration for the empty streams\n",
    "await check_stream_config(\"METRICS\")"
   ]
  },
  {
   "cell_type": "code",
   "execution_count": null,
   "id": "9f9f5370",
   "metadata": {},
   "outputs": [],
   "source": [
    "await check_stream_config(\"LOGS\")"
   ]
  },
  {
   "cell_type": "code",
   "execution_count": null,
   "id": "570947d7",
   "metadata": {},
   "outputs": [],
   "source": [
    "await check_stream_config(\"ALERT_DATA\")"
   ]
  },
  {
   "cell_type": "markdown",
   "id": "b76b6d30",
   "metadata": {},
   "source": [
    "## Verify Subject Mapping\n",
    "\n",
    "Check if the subjects used in the scripts match what's configured in the streams."
   ]
  },
  {
   "cell_type": "code",
   "execution_count": null,
   "id": "e7720532",
   "metadata": {},
   "outputs": [],
   "source": [
    "# This function helps diagnose issues with subject mapping\n",
    "async def check_subject_matches(stream_name, test_subject):\n",
    "    nc = await nats.connect(NATS_URL)\n",
    "    js = nc.jetstream()\n",
    "    \n",
    "    try:\n",
    "        info = await js.stream_info(stream_name)\n",
    "        subjects = info.config.subjects\n",
    "        \n",
    "        print(f\"Stream: {stream_name}\")\n",
    "        print(f\"Configured subjects: {subjects}\")\n",
    "        print(f\"Test subject: {test_subject}\")\n",
    "        \n",
    "        # Check if the test subject would match any of the configured patterns\n",
    "        matches = False\n",
    "        for subject_pattern in subjects:\n",
    "            # Simple pattern matching (could be more sophisticated)\n",
    "            if subject_pattern == test_subject:\n",
    "                matches = True\n",
    "                print(f\"✅ Direct match with: {subject_pattern}\")\n",
    "            elif '>' in subject_pattern:\n",
    "                prefix = subject_pattern.split('>', 1)[0].strip('.')\n",
    "                if test_subject.startswith(prefix):\n",
    "                    matches = True\n",
    "                    print(f\"✅ Wildcard match with: {subject_pattern}\")\n",
    "            elif '*' in subject_pattern:\n",
    "                parts = subject_pattern.split('.')\n",
    "                test_parts = test_subject.split('.')\n",
    "                if len(parts) == len(test_parts):\n",
    "                    part_match = True\n",
    "                    for i, part in enumerate(parts):\n",
    "                        if part != '*' and part != test_parts[i]:\n",
    "                            part_match = False\n",
    "                            break\n",
    "                    if part_match:\n",
    "                        matches = True\n",
    "                        print(f\"✅ Token match with: {subject_pattern}\")\n",
    "        \n",
    "        if not matches:\n",
    "            print(f\"❌ No match found! The test subject may not be captured by this stream.\")\n",
    "            \n",
    "    except Exception as e:\n",
    "        print(f\"Error checking subject matches: {e}\")\n",
    "    \n",
    "    await nc.close()"
   ]
  },
  {
   "cell_type": "code",
   "execution_count": null,
   "id": "d5d821fc",
   "metadata": {},
   "outputs": [],
   "source": [
    "# Check if the subjects used in the scripts match the stream configuration\n",
    "await check_subject_matches(\"METRICS\", \"metrics.test_service.cpu_usage\")\n",
    "await check_subject_matches(\"LOGS\", \"logs.test_service.info\")\n",
    "await check_subject_matches(\"ALERTS\", \"alerts.test_alert\")\n",
    "await check_subject_matches(\"ALERT_DATA\", \"alerts.test_alert\")"
   ]
  },
  {
   "cell_type": "markdown",
   "id": "c5d16714",
   "metadata": {},
   "source": [
    "## Generate and Publish Data with Fixed Subjects\n",
    "\n",
    "Create functions to generate proper data for each stream type and publish it with the correct subjects."
   ]
  },
  {
   "cell_type": "code",
   "execution_count": null,
   "id": "48e12a27",
   "metadata": {},
   "outputs": [],
   "source": [
    "# Function to generate and publish metrics data\n",
    "async def publish_metrics_data(count=5, service=\"test-service\"):\n",
    "    nc = await nats.connect(NATS_URL)\n",
    "    js = nc.jetstream()\n",
    "    \n",
    "    metrics = [\"cpu_usage\", \"memory_usage\", \"request_rate\", \"error_rate\"]\n",
    "    for i in range(count):\n",
    "        metric = random.choice(metrics)\n",
    "        value = random.randint(1, 100)\n",
    "        \n",
    "        data = {\n",
    "            \"timestamp\": datetime.now().isoformat(),\n",
    "            \"service\": service,\n",
    "            \"name\": metric,\n",
    "            \"value\": value\n",
    "        }\n",
    "        \n",
    "        subject = f\"metrics.{service.replace('-', '_')}.{metric}\"\n",
    "        \n",
    "        try:\n",
    "            ack = await js.publish(subject, json.dumps(data).encode())\n",
    "            print(f\"Published metric {metric} = {value} to {subject} (seq: {ack.seq})\")\n",
    "        except Exception as e:\n",
    "            print(f\"JetStream publish failed: {e}\")\n",
    "            # Fallback to regular NATS publish\n",
    "            nc.publish(subject, json.dumps(data).encode())\n",
    "            print(f\"Published metric {metric} = {value} to {subject} (regular NATS)\")\n",
    "        \n",
    "        await asyncio.sleep(0.2)  # Small delay between publications\n",
    "    \n",
    "    await nc.close()\n",
    "    return count"
   ]
  },
  {
   "cell_type": "code",
   "execution_count": null,
   "id": "422f421e",
   "metadata": {},
   "outputs": [],
   "source": [
    "# Function to generate and publish logs data\n",
    "async def publish_logs_data(count=5, service=\"test-service\"):\n",
    "    nc = await nats.connect(NATS_URL)\n",
    "    js = nc.jetstream()\n",
    "    \n",
    "    levels = [\"INFO\", \"WARN\", \"ERROR\", \"DEBUG\"]\n",
    "    messages = [\n",
    "        \"Service started\",\n",
    "        \"Request processed\",\n",
    "        \"Database query completed\",\n",
    "        \"Connection timeout\",\n",
    "        \"Authentication failed\",\n",
    "        \"Resource not found\"\n",
    "    ]\n",
    "    \n",
    "    for i in range(count):\n",
    "        level = random.choice(levels)\n",
    "        message = random.choice(messages)\n",
    "        \n",
    "        data = {\n",
    "            \"timestamp\": datetime.now().isoformat(),\n",
    "            \"service\": service,\n",
    "            \"level\": level,\n",
    "            \"message\": f\"{message} (test {i+1})\"\n",
    "        }\n",
    "        \n",
    "        subject = f\"logs.{service.replace('-', '_')}.{level.lower()}\"\n",
    "        \n",
    "        try:\n",
    "            ack = await js.publish(subject, json.dumps(data).encode())\n",
    "            print(f\"Published log [{level}] {message} to {subject} (seq: {ack.seq})\")\n",
    "        except Exception as e:\n",
    "            print(f\"JetStream publish failed: {e}\")\n",
    "            # Fallback to regular NATS publish\n",
    "            nc.publish(subject, json.dumps(data).encode())\n",
    "            print(f\"Published log [{level}] {message} to {subject} (regular NATS)\")\n",
    "        \n",
    "        await asyncio.sleep(0.2)  # Small delay between publications\n",
    "    \n",
    "    await nc.close()\n",
    "    return count"
   ]
  },
  {
   "cell_type": "code",
   "execution_count": null,
   "id": "9680a41f",
   "metadata": {},
   "outputs": [],
   "source": [
    "# Function to generate and publish alerts data\n",
    "async def publish_alerts_data(count=5, service=\"test-service\"):\n",
    "    nc = await nats.connect(NATS_URL)\n",
    "    js = nc.jetstream()\n",
    "    \n",
    "    alert_names = [\"HighCpuUsage\", \"HighMemoryUsage\", \"HighLatency\", \"HighErrorRate\"]\n",
    "    severities = [\"info\", \"warning\", \"critical\"]\n",
    "    \n",
    "    for i in range(count):\n",
    "        alert_name = random.choice(alert_names)\n",
    "        severity = random.choice(severities)\n",
    "        \n",
    "        data = {\n",
    "            \"id\": f\"alert-{int(time.time())}-{i}\",\n",
    "            \"labels\": {\n",
    "                \"alertname\": alert_name,\n",
    "                \"service\": service,\n",
    "                \"severity\": severity\n",
    "            },\n",
    "            \"annotations\": {\n",
    "                \"summary\": f\"{alert_name} detected\",\n",
    "                \"description\": f\"Test alert for {service}\",\n",
    "                \"value\": f\"{random.randint(80, 100)}%\",\n",
    "                \"threshold\": \"80%\"\n",
    "            },\n",
    "            \"startsAt\": datetime.now().isoformat(),\n",
    "            \"status\": random.choice([\"open\", \"acknowledged\", \"resolved\"])\n",
    "        }\n",
    "        \n",
    "        # Try both subject formats to see which one works\n",
    "        subject1 = f\"alerts.{service.replace('-', '_')}.{alert_name.lower()}\"\n",
    "        subject2 = f\"alert.{alert_name.lower()}\"\n",
    "        \n",
    "        try:\n",
    "            # Try first subject format\n",
    "            ack = await js.publish(subject1, json.dumps(data).encode())\n",
    "            print(f\"Published alert {alert_name} to {subject1} (seq: {ack.seq})\")\n",
    "        except Exception as e:\n",
    "            print(f\"JetStream publish to {subject1} failed: {e}\")\n",
    "            try:\n",
    "                # Try second subject format\n",
    "                ack = await js.publish(subject2, json.dumps(data).encode())\n",
    "                print(f\"Published alert {alert_name} to {subject2} (seq: {ack.seq})\")\n",
    "            except Exception as e2:\n",
    "                print(f\"JetStream publish to {subject2} failed: {e2}\")\n",
    "                # Fallback to regular NATS publish\n",
    "                nc.publish(subject1, json.dumps(data).encode())\n",
    "                print(f\"Published alert {alert_name} to {subject1} (regular NATS)\")\n",
    "        \n",
    "        await asyncio.sleep(0.2)  # Small delay between publications\n",
    "    \n",
    "    await nc.close()\n",
    "    return count"
   ]
  },
  {
   "cell_type": "code",
   "execution_count": null,
   "id": "1a70debc",
   "metadata": {},
   "outputs": [],
   "source": [
    "# Generate test data for metrics\n",
    "await publish_metrics_data(5)"
   ]
  },
  {
   "cell_type": "code",
   "execution_count": null,
   "id": "84a75ea3",
   "metadata": {},
   "outputs": [],
   "source": [
    "# Generate test data for logs\n",
    "await publish_logs_data(5)"
   ]
  },
  {
   "cell_type": "code",
   "execution_count": null,
   "id": "4cd51bcc",
   "metadata": {},
   "outputs": [],
   "source": [
    "# Generate test data for alerts\n",
    "await publish_alerts_data(5)"
   ]
  },
  {
   "cell_type": "markdown",
   "id": "24f830db",
   "metadata": {},
   "source": [
    "## Check Stream Status Again\n",
    "\n",
    "Check if our test data was correctly published to the streams."
   ]
  },
  {
   "cell_type": "code",
   "execution_count": null,
   "id": "51a269b1",
   "metadata": {},
   "outputs": [],
   "source": [
    "# Check stream status again to see if our test data was published\n",
    "stream_info = await get_stream_info()\n",
    "df = pd.DataFrame(stream_info)\n",
    "df"
   ]
  },
  {
   "cell_type": "markdown",
   "id": "a8ae1d30",
   "metadata": {},
   "source": [
    "## Recommendations\n",
    "\n",
    "Based on the diagnostics above, here are some recommendations to fix the issue with missing data in streams:\n",
    "\n",
    "1. **Check Subject Patterns**: Ensure that the subjects used in your data generation scripts match the patterns configured in the streams.\n",
    "\n",
    "2. **Stream Configuration**: Make sure all streams are properly configured with the correct subject patterns.\n",
    "\n",
    "3. **Fix Data Generation Scripts**: Update the scripts to use the correct subject patterns when publishing data.\n",
    "\n",
    "4. **Use JetStream Publishing**: Make sure your scripts are using JetStream publish rather than regular NATS publish.\n",
    "\n",
    "5. **Stream Creation**: Verify that streams are created before trying to publish to them.\n",
    "\n",
    "You can use the provided functions in this notebook to test your fixes before running the full generation scripts."
   ]
  }
 ],
 "metadata": {
  "language_info": {
   "name": "python"
  }
 },
 "nbformat": 4,
 "nbformat_minor": 5
}
